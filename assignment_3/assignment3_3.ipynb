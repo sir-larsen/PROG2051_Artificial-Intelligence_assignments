{
 "cells": [
  {
   "cell_type": "code",
   "execution_count": 126,
   "metadata": {},
   "outputs": [
    {
     "output_type": "stream",
     "name": "stderr",
     "text": [
      "[nltk_data] Downloading package wordnet to\n[nltk_data]     C:\\Users\\alexa\\AppData\\Roaming\\nltk_data...\n[nltk_data]   Package wordnet is already up-to-date!\n"
     ]
    },
    {
     "output_type": "execute_result",
     "data": {
      "text/plain": [
       "True"
      ]
     },
     "metadata": {},
     "execution_count": 126
    }
   ],
   "source": [
    "from build import models, reader\n",
    "from build import labels as categories\n",
    "from sklearn.model_selection import train_test_split as tts\n",
    "from sklearn.metrics import classification_report\n",
    "from build import *\n",
    "import nltk\n",
    "nltk.download('wordnet')"
   ]
  },
  {
   "cell_type": "code",
   "execution_count": 127,
   "metadata": {},
   "outputs": [
    {
     "output_type": "stream",
     "name": "stdout",
     "text": [
      "- 'books' contains 71 docs and 41,438 words\n- 'cinema' contains 100 docs and 69,153 words\n- 'tech' contains 176 docs and 97,368 words\n- 'sports' contains 118 docs and 68,884 words\n- 'design' contains 55 docs and 18,260 words\n"
     ]
    }
   ],
   "source": [
    "categories_new = ['books', 'cinema', 'tech', 'sports', 'design'] #Defining a list for the categories to load\n",
    "for category in categories_new: #Borrowed from helper.ipynb from teams\n",
    "\n",
    "    n_docs = len(reader.fileids(categories=[category]))\n",
    "    n_words = sum(1 for word in reader.words(categories=[category]))\n",
    "\n",
    "    print(\"- '{}' contains {:,} docs and {:,} words\".format(category, n_docs, n_words))"
   ]
  },
  {
   "cell_type": "code",
   "execution_count": 134,
   "metadata": {},
   "outputs": [],
   "source": [
    "# Loading the data and splitting into 70% training and 30% testing using functions provided in course files\r\n",
    "docs = reader.fileids(categories=categories_new)\r\n",
    "labels = [reader.categories(fileids=[fid])[0] for fid in docs]\r\n",
    "\r\n",
    "train_docs, test_docs, train_labels, test_labels = tts(docs, labels, test_size=0.3)"
   ]
  }
 ],
 "metadata": {
  "kernelspec": {
   "name": "python385jvsc74a57bd0b3ba2566441a7c06988d0923437866b63cedc61552a5af99d1f4fb67d367b25f",
   "display_name": "Python 3.8.5 64-bit (conda)"
  },
  "language_info": {
   "codemirror_mode": {
    "name": "ipython",
    "version": 3
   },
   "file_extension": ".py",
   "mimetype": "text/x-python",
   "name": "python",
   "nbconvert_exporter": "python",
   "pygments_lexer": "ipython3",
   "version": "3.8.5-final"
  }
 },
 "nbformat": 4,
 "nbformat_minor": 2
}